{
 "nbformat": 4,
 "nbformat_minor": 2,
 "metadata": {
  "language_info": {
   "name": "python",
   "codemirror_mode": {
    "name": "ipython",
    "version": 3
   },
   "version": "3.7.2-final"
  },
  "orig_nbformat": 2,
  "file_extension": ".py",
  "mimetype": "text/x-python",
  "name": "python",
  "npconvert_exporter": "python",
  "pygments_lexer": "ipython3",
  "version": 3,
  "kernelspec": {
   "name": "python37232bit0bafe0d4bf6a43df845319a7cc4e1dd0",
   "display_name": "Python 3.7.2 32-bit"
  }
 },
 "cells": [
  {
   "cell_type": "code",
   "execution_count": 49,
   "metadata": {},
   "outputs": [],
   "source": [
    "graph = [[0,0,0,0,0,0,0,0,0,0,0,0],\n",
    "        [1,0,0,0,0,0,0,0,0,0,0,0],\n",
    "        [1,0,0,0,0,0,0,0,0,0,0,0],\n",
    "        [0,1,1,0,1,0,0,0,0,0,0,0],\n",
    "        [0,0,0,0,0,0,0,1,0,0,1,0],\n",
    "        [0,0,1,0,0,0,1,0,0,0,0,0],\n",
    "        [0,0,0,0,0,0,0,0,0,0,0,0],\n",
    "        [0,0,0,0,0,0,0,0,1,1,0,0],\n",
    "        [0,0,0,0,0,0,0,0,0,1,0,0],\n",
    "        [0,0,0,0,0,0,0,0,0,0,0,0],\n",
    "        [0,0,0,0,0,1,0,0,0,0,0,0],\n",
    "        [0,0,0,1,1,0,0,0,1,0,0,0]]"
   ]
  },
  {
   "cell_type": "code",
   "execution_count": 50,
   "metadata": {},
   "outputs": [],
   "source": [
    "# Graph \n",
    "# a b c d e f g h p q r s"
   ]
  },
  {
   "cell_type": "code",
   "execution_count": 51,
   "metadata": {},
   "outputs": [],
   "source": [
    "queue = []\n",
    "visited = [False]*len(graph[0])"
   ]
  },
  {
   "cell_type": "code",
   "execution_count": 52,
   "metadata": {},
   "outputs": [],
   "source": [
    "start_point = 11 # S\n",
    "queue.append(start_point)\n",
    "visit_list = []"
   ]
  },
  {
   "cell_type": "code",
   "execution_count": 53,
   "metadata": {},
   "outputs": [
    {
     "name": "stdout",
     "output_type": "stream",
     "text": "[11]\n[3, 4, 8]\n[4, 8, 1, 2]\n[8, 1, 2, 7, 10]\n[1, 2, 7, 10, 9]\n[2, 7, 10, 9, 0]\n[7, 10, 9, 0]\n[10, 9, 0]\n[9, 0, 5]\n[0, 5]\n[5]\n[6]\nvisited :  [11, 3, 4, 8, 1, 2, 7, 10, 9, 0, 5, 6]\n"
    }
   ],
   "source": [
    "while len(queue):\n",
    "    print(queue)\n",
    "    selected_point = queue[0]\n",
    "    queue.remove(selected_point)\n",
    "    visited[selected_point] = True\n",
    "    visit_list.append(selected_point)\n",
    "    \n",
    "    for i in range(len(graph[0])):\n",
    "        if graph[selected_point][i] == 1 and visited[i] == False and not(i in queue):\n",
    "            queue.append(i)\n",
    "            \n",
    "        else:\n",
    "            pass\n",
    "    \n",
    "    \n",
    "print(\"visited : \",visit_list)"
   ]
  },
  {
   "cell_type": "code",
   "execution_count": null,
   "metadata": {},
   "outputs": [],
   "source": []
  }
 ]
}